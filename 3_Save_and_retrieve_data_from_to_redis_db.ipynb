{
 "cells": [
  {
   "cell_type": "code",
   "execution_count": 1,
   "id": "bf68a574-02ef-4fd5-a4d7-6eefd59e0edd",
   "metadata": {},
   "outputs": [],
   "source": [
    "import numpy as np\n",
    "import pandas as pd\n",
    "import redis\n"
   ]
  },
  {
   "cell_type": "code",
   "execution_count": 2,
   "id": "9298d54d-a5db-4962-a5c5-34943953a3d5",
   "metadata": {},
   "outputs": [],
   "source": [
    "#configure the redis db & connect to redis client\n",
    "#redis-17158.c326.us-east-1-3.ec2.cloud.redislabs.com:17158\n",
    "#hGTkDq5a98SkO1P6ER4KpnpXI3T9kQuy\n",
    "hostname = 'redis-18301.c274.us-east-1-3.ec2.cloud.redislabs.com'\n",
    "portnumber = 18301\n",
    "password = 'ihIROTTqvhEMCPVmqNHPImalkOIZjZ0W'\n",
    "\n",
    "r = redis.StrictRedis(host = hostname,\n",
    "                    port = portnumber,\n",
    "                    password = password)"
   ]
  },
  {
   "cell_type": "code",
   "execution_count": 3,
   "id": "0ff1ac85-8ce9-4854-a7be-9dbaba94e34f",
   "metadata": {},
   "outputs": [
    {
     "data": {
      "text/plain": [
       "True"
      ]
     },
     "execution_count": 3,
     "metadata": {},
     "output_type": "execute_result"
    }
   ],
   "source": [
    "r.ping()"
   ]
  },
  {
   "cell_type": "code",
   "execution_count": 4,
   "id": "efcaef56-1fef-4857-a2e7-35e6d2e01ae0",
   "metadata": {},
   "outputs": [],
   "source": [
    "#r.keys()"
   ]
  },
  {
   "cell_type": "markdown",
   "id": "ba0eccf9-d2aa-4601-b3e7-3c4e6636d871",
   "metadata": {},
   "source": [
    "#### load the data np.zip"
   ]
  },
  {
   "cell_type": "code",
   "execution_count": 5,
   "id": "cc874e31-53c3-4e08-ab5c-08bcaa7bda78",
   "metadata": {},
   "outputs": [
    {
     "data": {
      "text/html": [
       "<div>\n",
       "<style scoped>\n",
       "    .dataframe tbody tr th:only-of-type {\n",
       "        vertical-align: middle;\n",
       "    }\n",
       "\n",
       "    .dataframe tbody tr th {\n",
       "        vertical-align: top;\n",
       "    }\n",
       "\n",
       "    .dataframe thead th {\n",
       "        text-align: right;\n",
       "    }\n",
       "</style>\n",
       "<table border=\"1\" class=\"dataframe\">\n",
       "  <thead>\n",
       "    <tr style=\"text-align: right;\">\n",
       "      <th></th>\n",
       "      <th>Name</th>\n",
       "      <th>Role</th>\n",
       "      <th>Facial_Features</th>\n",
       "    </tr>\n",
       "  </thead>\n",
       "  <tbody>\n",
       "    <tr>\n",
       "      <th>0</th>\n",
       "      <td>Angelina Jolie</td>\n",
       "      <td>Student</td>\n",
       "      <td>[0.43242034, 1.0748498, -0.12862365, -1.833291...</td>\n",
       "    </tr>\n",
       "    <tr>\n",
       "      <th>1</th>\n",
       "      <td>Barack Obama</td>\n",
       "      <td>Teacher</td>\n",
       "      <td>[0.94858104, -0.5584052, 0.094820715, -1.27965...</td>\n",
       "    </tr>\n",
       "    <tr>\n",
       "      <th>2</th>\n",
       "      <td>Chris Evans</td>\n",
       "      <td>Student</td>\n",
       "      <td>[0.7201715, -1.4684149, -0.7781253, -1.4601073...</td>\n",
       "    </tr>\n",
       "    <tr>\n",
       "      <th>3</th>\n",
       "      <td>Morgan Freeman</td>\n",
       "      <td>Teacher</td>\n",
       "      <td>[0.48535103, -0.6192555, -0.4069932, 1.0687788...</td>\n",
       "    </tr>\n",
       "    <tr>\n",
       "      <th>4</th>\n",
       "      <td>Scarlett Johansson</td>\n",
       "      <td>Student</td>\n",
       "      <td>[0.19131963, -0.48843804, -1.690233, 0.4423967...</td>\n",
       "    </tr>\n",
       "  </tbody>\n",
       "</table>\n",
       "</div>"
      ],
      "text/plain": [
       "                 Name     Role  \\\n",
       "0      Angelina Jolie  Student   \n",
       "1        Barack Obama  Teacher   \n",
       "2         Chris Evans  Student   \n",
       "3      Morgan Freeman  Teacher   \n",
       "4  Scarlett Johansson  Student   \n",
       "\n",
       "                                     Facial_Features  \n",
       "0  [0.43242034, 1.0748498, -0.12862365, -1.833291...  \n",
       "1  [0.94858104, -0.5584052, 0.094820715, -1.27965...  \n",
       "2  [0.7201715, -1.4684149, -0.7781253, -1.4601073...  \n",
       "3  [0.48535103, -0.6192555, -0.4069932, 1.0687788...  \n",
       "4  [0.19131963, -0.48843804, -1.690233, 0.4423967...  "
      ]
     },
     "execution_count": 5,
     "metadata": {},
     "output_type": "execute_result"
    }
   ],
   "source": [
    "np_file = np.load('dataframe_students_teacher.npz', allow_pickle=True)\n",
    "x_values = np_file['arr_0']\n",
    "col_names = np_file['arr_1']\n",
    "\n",
    "df = pd.DataFrame(x_values,columns=col_names)\n",
    "df"
   ]
  },
  {
   "cell_type": "code",
   "execution_count": 6,
   "id": "514532b8-f9ba-4e2d-bbbe-32358eb53269",
   "metadata": {
    "scrolled": true
   },
   "outputs": [
    {
     "data": {
      "text/html": [
       "<div>\n",
       "<style scoped>\n",
       "    .dataframe tbody tr th:only-of-type {\n",
       "        vertical-align: middle;\n",
       "    }\n",
       "\n",
       "    .dataframe tbody tr th {\n",
       "        vertical-align: top;\n",
       "    }\n",
       "\n",
       "    .dataframe thead th {\n",
       "        text-align: right;\n",
       "    }\n",
       "</style>\n",
       "<table border=\"1\" class=\"dataframe\">\n",
       "  <thead>\n",
       "    <tr style=\"text-align: right;\">\n",
       "      <th></th>\n",
       "      <th>Name</th>\n",
       "      <th>Role</th>\n",
       "      <th>Facial_Features</th>\n",
       "      <th>name_role</th>\n",
       "    </tr>\n",
       "  </thead>\n",
       "  <tbody>\n",
       "    <tr>\n",
       "      <th>0</th>\n",
       "      <td>Angelina Jolie</td>\n",
       "      <td>Student</td>\n",
       "      <td>[0.43242034, 1.0748498, -0.12862365, -1.833291...</td>\n",
       "      <td>Angelina Jolie@Student</td>\n",
       "    </tr>\n",
       "    <tr>\n",
       "      <th>1</th>\n",
       "      <td>Barack Obama</td>\n",
       "      <td>Teacher</td>\n",
       "      <td>[0.94858104, -0.5584052, 0.094820715, -1.27965...</td>\n",
       "      <td>Barack Obama@Teacher</td>\n",
       "    </tr>\n",
       "    <tr>\n",
       "      <th>2</th>\n",
       "      <td>Chris Evans</td>\n",
       "      <td>Student</td>\n",
       "      <td>[0.7201715, -1.4684149, -0.7781253, -1.4601073...</td>\n",
       "      <td>Chris Evans@Student</td>\n",
       "    </tr>\n",
       "    <tr>\n",
       "      <th>3</th>\n",
       "      <td>Morgan Freeman</td>\n",
       "      <td>Teacher</td>\n",
       "      <td>[0.48535103, -0.6192555, -0.4069932, 1.0687788...</td>\n",
       "      <td>Morgan Freeman@Teacher</td>\n",
       "    </tr>\n",
       "    <tr>\n",
       "      <th>4</th>\n",
       "      <td>Scarlett Johansson</td>\n",
       "      <td>Student</td>\n",
       "      <td>[0.19131963, -0.48843804, -1.690233, 0.4423967...</td>\n",
       "      <td>Scarlett Johansson@Student</td>\n",
       "    </tr>\n",
       "  </tbody>\n",
       "</table>\n",
       "</div>"
      ],
      "text/plain": [
       "                 Name     Role  \\\n",
       "0      Angelina Jolie  Student   \n",
       "1        Barack Obama  Teacher   \n",
       "2         Chris Evans  Student   \n",
       "3      Morgan Freeman  Teacher   \n",
       "4  Scarlett Johansson  Student   \n",
       "\n",
       "                                     Facial_Features  \\\n",
       "0  [0.43242034, 1.0748498, -0.12862365, -1.833291...   \n",
       "1  [0.94858104, -0.5584052, 0.094820715, -1.27965...   \n",
       "2  [0.7201715, -1.4684149, -0.7781253, -1.4601073...   \n",
       "3  [0.48535103, -0.6192555, -0.4069932, 1.0687788...   \n",
       "4  [0.19131963, -0.48843804, -1.690233, 0.4423967...   \n",
       "\n",
       "                    name_role  \n",
       "0      Angelina Jolie@Student  \n",
       "1        Barack Obama@Teacher  \n",
       "2         Chris Evans@Student  \n",
       "3      Morgan Freeman@Teacher  \n",
       "4  Scarlett Johansson@Student  "
      ]
     },
     "execution_count": 6,
     "metadata": {},
     "output_type": "execute_result"
    }
   ],
   "source": [
    "df['name_role'] = df['Name']+'@'+df['Role']\n",
    "df"
   ]
  },
  {
   "cell_type": "code",
   "execution_count": 7,
   "id": "7b28a4d5-1508-4088-8a4b-a19146141138",
   "metadata": {},
   "outputs": [
    {
     "data": {
      "text/plain": [
       "5"
      ]
     },
     "execution_count": 7,
     "metadata": {},
     "output_type": "execute_result"
    }
   ],
   "source": [
    "records = df[['name_role','Facial_Features']].to_dict(orient='records')\n",
    "len(records)"
   ]
  },
  {
   "cell_type": "markdown",
   "id": "df0b40d5-2d77-4049-b0d7-1f881b3db402",
   "metadata": {},
   "source": [
    "## save data in redis - hashes\n",
    "- keyname = 'academy:register'"
   ]
  },
  {
   "cell_type": "code",
   "execution_count": 8,
   "id": "2cdae2ae-a65e-4894-bfda-a7d6c7823888",
   "metadata": {},
   "outputs": [],
   "source": [
    "#convert np array to bytes & then store bytes into hashes\n",
    "for record in records:\n",
    "    name_role = record['name_role'] #key\n",
    "    vector = record['Facial_Features'] #value\n",
    "    #print(name_role)\n",
    "\n",
    "    # convert np arr into bytes\n",
    "    vector_bytes = vector.tobytes()\n",
    "\n",
    "    #save data into redis cloud\n",
    "    r.hset(name='academy:register', key=name_role, value=vector_bytes)"
   ]
  },
  {
   "cell_type": "code",
   "execution_count": 9,
   "id": "919ec23e-3fc5-46e6-af53-cb3dbeef74a9",
   "metadata": {},
   "outputs": [
    {
     "data": {
      "text/plain": [
       "dtype('float32')"
      ]
     },
     "execution_count": 9,
     "metadata": {},
     "output_type": "execute_result"
    }
   ],
   "source": [
    "vector.dtype"
   ]
  },
  {
   "cell_type": "markdown",
   "id": "9ac856e4-9f4a-40de-b1b8-168510061221",
   "metadata": {},
   "source": [
    "## retrieve records from redis"
   ]
  },
  {
   "cell_type": "code",
   "execution_count": 10,
   "id": "7799098f-b3b6-4e96-8c83-32bec3785129",
   "metadata": {},
   "outputs": [
    {
     "data": {
      "text/plain": [
       "b'Chris Evans@Student'           b')]8?\\x05\\xf5\\xbb\\xbf83G\\xbf\\xcc\\xe4\\xba\\xbf\\...\n",
       "b'Angelina Jolie@Student'        b'3f\\xdd>\\xae\\x94\\x89?\\xeb\\xb5\\x03\\xbeN\\xa9\\xe...\n",
       "b'Morgan Freeman@Teacher'        b'\\xee\\x7f\\xf8>\\x87\\x87\\x1e\\xbfja\\xd0\\xbe\\xbe\\...\n",
       "b'Barack Obama@Teacher'          b'5\\xd6r?\\xa5\\xf3\\x0e\\xbf]1\\xc2=\\xde\\xcb\\xa3\\x...\n",
       "b'Scarlett Johansson@Student'    b'K\\xe9C>\\x8d\\x14\\xfa\\xbe\\x8eY\\xd8\\xbf\\xd3\\x81...\n",
       "dtype: object"
      ]
     },
     "execution_count": 10,
     "metadata": {},
     "output_type": "execute_result"
    }
   ],
   "source": [
    "retrieve_dict = r.hgetall(name='academy:register')\n",
    "retrieve_series = pd.Series(retrieve_dict)\n",
    "retrieve_series"
   ]
  },
  {
   "cell_type": "code",
   "execution_count": 11,
   "id": "496b2d02-f803-452a-9f85-f95d11d881a8",
   "metadata": {},
   "outputs": [],
   "source": [
    "#np.frombuffer(retrieve_series[b'Morgan Freeman@Teacher'], dtype=np.float32).shape\n",
    "retrieve_series = retrieve_series.apply(lambda x: np.frombuffer(x,dtype=np.float32))\n",
    "index = retrieve_series.index\n",
    "index = list(map(lambda x: x.decode(), index))"
   ]
  },
  {
   "cell_type": "code",
   "execution_count": 12,
   "id": "81906d86-6a4e-4203-9e15-93ab1a1e4cc8",
   "metadata": {},
   "outputs": [],
   "source": [
    "retrieve_series.index = index"
   ]
  },
  {
   "cell_type": "code",
   "execution_count": 13,
   "id": "bbab00be-febe-44ff-9eca-3600dbae7e97",
   "metadata": {},
   "outputs": [
    {
     "data": {
      "text/html": [
       "<div>\n",
       "<style scoped>\n",
       "    .dataframe tbody tr th:only-of-type {\n",
       "        vertical-align: middle;\n",
       "    }\n",
       "\n",
       "    .dataframe tbody tr th {\n",
       "        vertical-align: top;\n",
       "    }\n",
       "\n",
       "    .dataframe thead th {\n",
       "        text-align: right;\n",
       "    }\n",
       "</style>\n",
       "<table border=\"1\" class=\"dataframe\">\n",
       "  <thead>\n",
       "    <tr style=\"text-align: right;\">\n",
       "      <th></th>\n",
       "      <th>name_role</th>\n",
       "      <th>facial_features</th>\n",
       "    </tr>\n",
       "  </thead>\n",
       "  <tbody>\n",
       "    <tr>\n",
       "      <th>0</th>\n",
       "      <td>Chris Evans@Student</td>\n",
       "      <td>[0.7201715, -1.4684149, -0.7781253, -1.4601073...</td>\n",
       "    </tr>\n",
       "    <tr>\n",
       "      <th>1</th>\n",
       "      <td>Angelina Jolie@Student</td>\n",
       "      <td>[0.43242034, 1.0748498, -0.12862365, -1.833291...</td>\n",
       "    </tr>\n",
       "    <tr>\n",
       "      <th>2</th>\n",
       "      <td>Morgan Freeman@Teacher</td>\n",
       "      <td>[0.48535103, -0.6192555, -0.4069932, 1.0687788...</td>\n",
       "    </tr>\n",
       "    <tr>\n",
       "      <th>3</th>\n",
       "      <td>Barack Obama@Teacher</td>\n",
       "      <td>[0.94858104, -0.5584052, 0.094820715, -1.27965...</td>\n",
       "    </tr>\n",
       "    <tr>\n",
       "      <th>4</th>\n",
       "      <td>Scarlett Johansson@Student</td>\n",
       "      <td>[0.19131963, -0.48843804, -1.690233, 0.4423967...</td>\n",
       "    </tr>\n",
       "  </tbody>\n",
       "</table>\n",
       "</div>"
      ],
      "text/plain": [
       "                    name_role  \\\n",
       "0         Chris Evans@Student   \n",
       "1      Angelina Jolie@Student   \n",
       "2      Morgan Freeman@Teacher   \n",
       "3        Barack Obama@Teacher   \n",
       "4  Scarlett Johansson@Student   \n",
       "\n",
       "                                     facial_features  \n",
       "0  [0.7201715, -1.4684149, -0.7781253, -1.4601073...  \n",
       "1  [0.43242034, 1.0748498, -0.12862365, -1.833291...  \n",
       "2  [0.48535103, -0.6192555, -0.4069932, 1.0687788...  \n",
       "3  [0.94858104, -0.5584052, 0.094820715, -1.27965...  \n",
       "4  [0.19131963, -0.48843804, -1.690233, 0.4423967...  "
      ]
     },
     "execution_count": 13,
     "metadata": {},
     "output_type": "execute_result"
    }
   ],
   "source": [
    "retrieve_df = retrieve_series.to_frame().reset_index()\n",
    "retrieve_df.columns = ['name_role', 'facial_features']\n",
    "retrieve_df"
   ]
  },
  {
   "cell_type": "code",
   "execution_count": null,
   "id": "6a64d190-1f1e-4cba-9abf-8c1e8c132dae",
   "metadata": {},
   "outputs": [],
   "source": []
  },
  {
   "cell_type": "markdown",
   "id": "44105a9a-6c5b-4811-8ce7-2e1b180dfc5a",
   "metadata": {},
   "source": [
    "#### REGISTRATION FORM"
   ]
  },
  {
   "cell_type": "code",
   "execution_count": 14,
   "id": "761f231f-79ae-4196-a8e5-60ecf1f2f523",
   "metadata": {},
   "outputs": [],
   "source": [
    "import cv2\n",
    "from insightface.app import FaceAnalysis"
   ]
  },
  {
   "cell_type": "code",
   "execution_count": 15,
   "id": "7994b4cd-df69-41f4-a68c-3873f55e0898",
   "metadata": {},
   "outputs": [
    {
     "name": "stdout",
     "output_type": "stream",
     "text": [
      "Applied providers: ['CPUExecutionProvider'], with options: {'CPUExecutionProvider': {}}\n",
      "find model: insightface_model\\models\\buffalo_sc\\det_500m.onnx detection [1, 3, '?', '?'] 127.5 128.0\n",
      "Applied providers: ['CPUExecutionProvider'], with options: {'CPUExecutionProvider': {}}\n",
      "find model: insightface_model\\models\\buffalo_sc\\w600k_mbf.onnx recognition ['None', 3, 112, 112] 127.5 127.5\n",
      "set det-size: (640, 640)\n"
     ]
    }
   ],
   "source": [
    "# configure the face analysis\n",
    "faceapp = FaceAnalysis(name='buffalo_sc',\n",
    "                       root='insightface_model',\n",
    "                       providers=['CPUExecutionProvider'])\n",
    "\n",
    "faceapp.prepare(ctx_id=0, det_size=(640,640), det_thresh=0.5)"
   ]
  },
  {
   "cell_type": "markdown",
   "id": "51ff6fd5-aff2-44e0-900a-1b56cd0b444b",
   "metadata": {},
   "source": [
    "## step-1: collect person name & role"
   ]
  },
  {
   "cell_type": "code",
   "execution_count": 16,
   "id": "1172908f-0514-48c9-b6b0-50a3fe25fdbb",
   "metadata": {},
   "outputs": [
    {
     "name": "stdin",
     "output_type": "stream",
     "text": [
      "Enter your name:  Sanya Ahmed\n",
      "\n",
      "    Please choose\n",
      "    1. Student\n",
      "    2. Teacher\n",
      "    \n",
      "    Enter number either 1 or 2\n",
      "     1\n"
     ]
    },
    {
     "name": "stdout",
     "output_type": "stream",
     "text": [
      "Your name =  Sanya Ahmed\n",
      "Your role =  Student\n",
      "Key =  Sanya Ahmed@Student\n"
     ]
    }
   ],
   "source": [
    "# python input()\n",
    "person_name = input('Enter your name: ')\n",
    "\n",
    "trials = 3\n",
    "for i in range(trials):\n",
    "    role = input(\"\"\"\n",
    "    Please choose\n",
    "    1. Student\n",
    "    2. Teacher\n",
    "    \n",
    "    Enter number either 1 or 2\n",
    "    \"\"\")\n",
    "\n",
    "    if role in ('1','2'):\n",
    "        if role=='1':\n",
    "            role = 'Student'\n",
    "        else:\n",
    "            role = 'Teacher'\n",
    "        break\n",
    "    else:\n",
    "        print('Invalid entry. Try again!')\n",
    "        if i == 3:\n",
    "            print('Exceeds Maximum Trials.')\n",
    "        \n",
    "        \n",
    "key = person_name+'@'+role\n",
    "print('Your name = ', person_name)\n",
    "print('Your role = ', role)\n",
    "print('Key = ', key)"
   ]
  },
  {
   "cell_type": "code",
   "execution_count": 17,
   "id": "371fd796-cd48-4d47-a447-f6619d2aaf2b",
   "metadata": {},
   "outputs": [
    {
     "data": {
      "text/plain": [
       "('Sanya Ahmed', 'Student')"
      ]
     },
     "execution_count": 17,
     "metadata": {},
     "output_type": "execute_result"
    }
   ],
   "source": [
    "person_name, role"
   ]
  },
  {
   "cell_type": "markdown",
   "id": "60458ef8-dbc4-456b-8893-62d488caa9c8",
   "metadata": {},
   "source": [
    "## step-2: collect samples(facial embeddings)"
   ]
  },
  {
   "cell_type": "code",
   "execution_count": 18,
   "id": "bbae75cf-5724-4add-b995-6f110f397c74",
   "metadata": {},
   "outputs": [],
   "source": [
    "# opencv videocapture model\n",
    "cap = cv2.VideoCapture(0) #0 default camera , 1 external camera\n",
    "face_embeddings = []\n",
    "sample = 0\n",
    "while True:\n",
    "    ret, frame = cap.read()\n",
    "    if ret == False:\n",
    "        print('Unable to read camera')\n",
    "        break\n",
    "        \n",
    "    # get results from insightface model\n",
    "    results = faceapp.get(frame,max_num=1)\n",
    "    for res in results:\n",
    "        sample += 1\n",
    "        x1, y1, x2, y2  = res['bbox'].astype(int)\n",
    "        cv2.rectangle(frame, (x1,y1), (x2,y2), (0,255,0), 1)\n",
    "\n",
    "        # facial features\n",
    "        embeddings = res['embedding']\n",
    "        face_embeddings.append(embeddings)\n",
    "\n",
    "    if sample >= 200:\n",
    "        break\n",
    "        \n",
    "    cv2.imshow('frame', frame)\n",
    "    if cv2.waitKey(1) == ord('q'): # this will trigger only when letter q(lowercase q) is pressed in keboard\n",
    "        break\n",
    "cap.release()\n",
    "cv2.destroyAllWindows()"
   ]
  },
  {
   "cell_type": "code",
   "execution_count": 19,
   "id": "7034c11b-df85-4837-ad8a-ae43eeed6293",
   "metadata": {},
   "outputs": [
    {
     "data": {
      "text/plain": [
       "200"
      ]
     },
     "execution_count": 19,
     "metadata": {},
     "output_type": "execute_result"
    }
   ],
   "source": [
    "len(face_embeddings)"
   ]
  },
  {
   "cell_type": "markdown",
   "id": "c58cef79-fe6e-4bbb-8c92-2e28ae1b7e22",
   "metadata": {},
   "source": [
    "## step-3: optimize data & save in redis db"
   ]
  },
  {
   "cell_type": "code",
   "execution_count": 20,
   "id": "4f737442-a285-4d80-968e-d8fe042baa3f",
   "metadata": {},
   "outputs": [
    {
     "data": {
      "text/plain": [
       "(512,)"
      ]
     },
     "execution_count": 20,
     "metadata": {},
     "output_type": "execute_result"
    }
   ],
   "source": [
    "x_mean = np.asarray(face_embeddings).mean(axis=0)\n",
    "x_mean.shape"
   ]
  },
  {
   "cell_type": "code",
   "execution_count": 21,
   "id": "a975671a-ae1c-49a5-8746-b9c4512ac052",
   "metadata": {},
   "outputs": [],
   "source": [
    "# convert it into bytes\n",
    "x_mean_bytes = x_mean.tobytes()"
   ]
  },
  {
   "cell_type": "code",
   "execution_count": 22,
   "id": "b48a9112-20d9-4091-9e2c-33041623d548",
   "metadata": {},
   "outputs": [
    {
     "data": {
      "text/plain": [
       "1"
      ]
     },
     "execution_count": 22,
     "metadata": {},
     "output_type": "execute_result"
    }
   ],
   "source": [
    "# save key & facial bytes into redis db\n",
    "r.hset(name='academy:register', key=key, value=x_mean_bytes)"
   ]
  },
  {
   "cell_type": "code",
   "execution_count": null,
   "id": "f449d6f6-8455-43ce-b89e-35238f4427b1",
   "metadata": {},
   "outputs": [],
   "source": []
  },
  {
   "cell_type": "code",
   "execution_count": null,
   "id": "b5a11377-406d-4bad-8676-b62242d9d4db",
   "metadata": {},
   "outputs": [],
   "source": []
  },
  {
   "cell_type": "code",
   "execution_count": null,
   "id": "1f9356d5-332c-4fd1-8f99-edb595569715",
   "metadata": {},
   "outputs": [],
   "source": []
  }
 ],
 "metadata": {
  "kernelspec": {
   "display_name": "Python 3 (ipykernel)",
   "language": "python",
   "name": "python3"
  },
  "language_info": {
   "codemirror_mode": {
    "name": "ipython",
    "version": 3
   },
   "file_extension": ".py",
   "mimetype": "text/x-python",
   "name": "python",
   "nbconvert_exporter": "python",
   "pygments_lexer": "ipython3",
   "version": "3.10.9"
  }
 },
 "nbformat": 4,
 "nbformat_minor": 5
}
