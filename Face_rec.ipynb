{
 "cells": [
  {
   "cell_type": "code",
   "execution_count": 1,
   "id": "e271387a-619e-4f90-8905-01ed321aae7f",
   "metadata": {},
   "outputs": [],
   "source": [
    "import numpy as np\n",
    "import pandas as pd\n",
    "import cv2"
   ]
  },
  {
   "cell_type": "code",
   "execution_count": 2,
   "id": "78be061e-5425-4747-9ee2-946a6d93da3c",
   "metadata": {},
   "outputs": [],
   "source": [
    "import redis"
   ]
  },
  {
   "cell_type": "code",
   "execution_count": 3,
   "id": "ff4ce648-cbb3-4403-b9ef-2b49387e130f",
   "metadata": {},
   "outputs": [],
   "source": [
    "# insightface\n",
    "from insightface.app import FaceAnalysis\n",
    "from sklearn.metrics import pairwise"
   ]
  },
  {
   "cell_type": "code",
   "execution_count": 4,
   "id": "9a7b455a-c4cb-4bd9-be72-ff47dd14a5cb",
   "metadata": {},
   "outputs": [],
   "source": [
    "# connect to redis client\n",
    "#redis-17158.c326.us-east-1-3.ec2.cloud.redislabs.com:17158\n",
    "#hGTkDq5a98SkO1P6ER4KpnpXI3T9kQuy\n",
    "hostname = 'redis-18301.c274.us-east-1-3.ec2.cloud.redislabs.com'\n",
    "portnumber = 18301\n",
    "password = 'ihIROTTqvhEMCPVmqNHPImalkOIZjZ0W'\n",
    "\n",
    "r = redis.StrictRedis(host = hostname,\n",
    "                    port = portnumber,\n",
    "                    password = password)"
   ]
  },
  {
   "cell_type": "code",
   "execution_count": 5,
   "id": "0780c616-d02a-4eed-905a-7b6454085a7a",
   "metadata": {},
   "outputs": [
    {
     "name": "stdout",
     "output_type": "stream",
     "text": [
      "Applied providers: ['CPUExecutionProvider'], with options: {'CPUExecutionProvider': {}}\n",
      "find model: insightface_model\\models\\buffalo_sc\\det_500m.onnx detection [1, 3, '?', '?'] 127.5 128.0\n",
      "Applied providers: ['CPUExecutionProvider'], with options: {'CPUExecutionProvider': {}}\n",
      "find model: insightface_model\\models\\buffalo_sc\\w600k_mbf.onnx recognition ['None', 3, 112, 112] 127.5 127.5\n",
      "set det-size: (640, 640)\n"
     ]
    }
   ],
   "source": [
    "# configure face analysis\n",
    "faceapp = FaceAnalysis(name='buffalo_sc',\n",
    "                       root='insightface_model',\n",
    "                       providers=['CPUExecutionProvider'])\n",
    "faceapp.prepare(ctx_id=0, det_size=(640,640), det_thresh=0.5)"
   ]
  },
  {
   "cell_type": "code",
   "execution_count": 6,
   "id": "fc104129-0b7d-41f9-82b7-39c736452e3a",
   "metadata": {},
   "outputs": [],
   "source": [
    "# ml search algo\n",
    "def ml_search_algorithm(dataframe, feature_column, test_vector, \n",
    "                        name_role=['Name','Role'], thresh=0.5):\n",
    "    \"\"\"\n",
    "    cosine similarity based search algo\n",
    "    \"\"\"\n",
    "    # step-1: take the dataframe (collection of data)\n",
    "    dataframe = dataframe.copy()\n",
    "    \n",
    "    # step-2: index face embedding from the df & convert into array\n",
    "    X_list = dataframe[feature_column].tolist()\n",
    "    x = np.asarray(X_list)\n",
    "    \n",
    "    # step-3: calculate cosine similarity\n",
    "    similar = pairwise.cosine_similarity(x, test_vector.reshape(1,-1)) #1x512\n",
    "    similar_arr = np.array(similar).flatten()\n",
    "    dataframe['cosine'] = similar_arr\n",
    "    \n",
    "    # step-4: filterthe data\n",
    "    data_filter = dataframe.query(f'cosine >= {thresh}')\n",
    "    if len(data_filter) > 0:\n",
    "        # step-5: get the person name\n",
    "        data_filter.reset_index(drop=True, inplace=True)\n",
    "        argmax = data_filter['cosine'].argmax()\n",
    "        person_name, person_role = data_filter.loc[argmax][name_role]\n",
    "    \n",
    "    else:\n",
    "        person_name = 'Unknown'\n",
    "        person_role = 'Unknown'\n",
    "\n",
    "\n",
    "    return person_name, person_role"
   ]
  },
  {
   "cell_type": "code",
   "execution_count": 7,
   "id": "bb607a34-597b-4cf0-8783-b962ca00df87",
   "metadata": {},
   "outputs": [],
   "source": [
    "# multiple face detection\n",
    "\n",
    "def face_prediction(test_image,dataframe, feature_column, \n",
    "                        name_role=['Name','Role'], thresh=0.5 ):\n",
    "    # step-1: take the test image & apply to insightface\n",
    "    results = faceapp.get(test_image)\n",
    "    test_copy = test_image.copy()\n",
    "    \n",
    "    # step-2: use for loop & extract each embeddings & pass to ml search algo\n",
    "    for res in results:\n",
    "        x1, y1, x2, y2 = res['bbox'].astype(int)\n",
    "        embeddings = res['embedding']\n",
    "        person_name, person_role = ml_search_algorithm(dataframe, \n",
    "                                                       feature_column, \n",
    "                                                       test_vector=embeddings,\n",
    "                                                       name_role=name_role,\n",
    "                                                       thresh=thresh)\n",
    "        if person_name == 'Unknown':\n",
    "            color = (0,0,255) #bgr\n",
    "        else:\n",
    "            color = (0,255,0)\n",
    "    \n",
    "        \n",
    "        cv2.rectangle(test_copy,(x1,y1),(x2,y2),color)\n",
    "    \n",
    "        text_gen = person_name\n",
    "        cv2.putText(test_copy,text_gen,(x1,y1),cv2.FONT_HERSHEY_DUPLEX, 0.7, color,2)\n",
    "\n",
    "\n",
    "    return test_copy\n",
    "\n"
   ]
  },
  {
   "cell_type": "code",
   "execution_count": null,
   "id": "dd03d37b-8ecf-46bf-b486-ac15efcc49df",
   "metadata": {},
   "outputs": [],
   "source": []
  }
 ],
 "metadata": {
  "kernelspec": {
   "display_name": "Python 3 (ipykernel)",
   "language": "python",
   "name": "python3"
  },
  "language_info": {
   "codemirror_mode": {
    "name": "ipython",
    "version": 3
   },
   "file_extension": ".py",
   "mimetype": "text/x-python",
   "name": "python",
   "nbconvert_exporter": "python",
   "pygments_lexer": "ipython3",
   "version": "3.10.9"
  }
 },
 "nbformat": 4,
 "nbformat_minor": 5
}
