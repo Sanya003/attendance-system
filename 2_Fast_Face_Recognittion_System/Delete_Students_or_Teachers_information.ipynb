{
 "cells": [
  {
   "cell_type": "code",
   "execution_count": 1,
   "id": "52b1ca11-8cb1-4a71-8ced-a788c22f3195",
   "metadata": {},
   "outputs": [],
   "source": [
    "import numpy as np\n",
    "import pandas as pd\n",
    "import redis"
   ]
  },
  {
   "cell_type": "code",
   "execution_count": 2,
   "id": "ebb2daa9-1fa9-4d7c-bf09-baa96c4fd8e3",
   "metadata": {},
   "outputs": [],
   "source": [
    "#configure the redis db & connect to redis client\n",
    "#redis-17158.c326.us-east-1-3.ec2.cloud.redislabs.com:17158\n",
    "#hGTkDq5a98SkO1P6ER4KpnpXI3T9kQuy\n",
    "hostname = 'redis-18301.c274.us-east-1-3.ec2.cloud.redislabs.com'\n",
    "portnumber = 18301\n",
    "password = 'ihIROTTqvhEMCPVmqNHPImalkOIZjZ0W'\n",
    "\n",
    "r = redis.StrictRedis(host = hostname,\n",
    "                    port = portnumber,\n",
    "                    password = password)"
   ]
  },
  {
   "cell_type": "code",
   "execution_count": 3,
   "id": "844ca7c4-259c-4f9f-af31-02669a28d90f",
   "metadata": {},
   "outputs": [
    {
     "data": {
      "text/plain": [
       "True"
      ]
     },
     "execution_count": 3,
     "metadata": {},
     "output_type": "execute_result"
    }
   ],
   "source": [
    "r.ping()"
   ]
  },
  {
   "cell_type": "code",
   "execution_count": 4,
   "id": "ca3323c4-2db8-47cb-85ae-b323798acc33",
   "metadata": {},
   "outputs": [
    {
     "data": {
      "text/plain": [
       "b'Morgan Freeman@Teacher'        b'\\xee\\x7f\\xf8>\\x87\\x87\\x1e\\xbfja\\xd0\\xbe\\xbe\\...\n",
       "b'Barack Obama@Teacher'          b'5\\xd6r?\\xa5\\xf3\\x0e\\xbf]1\\xc2=\\xde\\xcb\\xa3\\x...\n",
       "b'Scarlett Johansson@Student'    b'K\\xe9C>\\x8d\\x14\\xfa\\xbe\\x8eY\\xd8\\xbf\\xd3\\x81...\n",
       "b'Chris Evans@Student'           b')]8?\\x05\\xf5\\xbb\\xbf83G\\xbf\\xcc\\xe4\\xba\\xbf\\...\n",
       "b'Sanya Ahmed@Student'           b'\\xa8\\xc4\\r\\xc0\\x84\\xae\\\\\\xbe\\xcd\\x92E?q0\\n@I...\n",
       "b'Angelina Jolie@Student'        b'3f\\xdd>\\xae\\x94\\x89?\\xeb\\xb5\\x03\\xbeN\\xa9\\xe...\n",
       "dtype: object"
      ]
     },
     "execution_count": 4,
     "metadata": {},
     "output_type": "execute_result"
    }
   ],
   "source": [
    "name = 'academy:register'\n",
    "register_series = pd.Series(r.hgetall(name))\n",
    "register_series"
   ]
  },
  {
   "cell_type": "code",
   "execution_count": 5,
   "id": "4ba61d5d-95a3-45ac-95cf-deb7ec490e58",
   "metadata": {},
   "outputs": [
    {
     "data": {
      "text/plain": [
       "0"
      ]
     },
     "execution_count": 5,
     "metadata": {},
     "output_type": "execute_result"
    }
   ],
   "source": [
    "# delete keys/fields\n",
    "key_to_del = 'Sanya@Student'\n",
    "r.hdel(name, key_to_del)\n",
    "# o/p -> 1 success\n",
    "# o/p -> 0 fail(key not found)"
   ]
  },
  {
   "cell_type": "code",
   "execution_count": null,
   "id": "bdd82005-c73f-4077-9e81-321e135fce1c",
   "metadata": {},
   "outputs": [],
   "source": []
  }
 ],
 "metadata": {
  "kernelspec": {
   "display_name": "Python 3 (ipykernel)",
   "language": "python",
   "name": "python3"
  },
  "language_info": {
   "codemirror_mode": {
    "name": "ipython",
    "version": 3
   },
   "file_extension": ".py",
   "mimetype": "text/x-python",
   "name": "python",
   "nbconvert_exporter": "python",
   "pygments_lexer": "ipython3",
   "version": "3.10.9"
  }
 },
 "nbformat": 4,
 "nbformat_minor": 5
}
