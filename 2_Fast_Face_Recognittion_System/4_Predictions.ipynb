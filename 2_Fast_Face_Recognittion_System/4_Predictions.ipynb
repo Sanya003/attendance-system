{
 "cells": [
  {
   "cell_type": "code",
   "execution_count": 1,
   "id": "8e24556f-f45d-4bd2-b0cf-cdbe6fab0a06",
   "metadata": {
    "scrolled": true
   },
   "outputs": [
    {
     "name": "stdout",
     "output_type": "stream",
     "text": [
      "Applied providers: ['CPUExecutionProvider'], with options: {'CPUExecutionProvider': {}}\n",
      "find model: insightface_model\\models\\buffalo_sc\\det_500m.onnx detection [1, 3, '?', '?'] 127.5 128.0\n",
      "Applied providers: ['CPUExecutionProvider'], with options: {'CPUExecutionProvider': {}}\n",
      "find model: insightface_model\\models\\buffalo_sc\\w600k_mbf.onnx recognition ['None', 3, 112, 112] 127.5 127.5\n",
      "set det-size: (640, 640)\n"
     ]
    }
   ],
   "source": [
    "import Face_rec"
   ]
  },
  {
   "cell_type": "code",
   "execution_count": 2,
   "id": "d663f353-6975-43f3-b84f-a836837722bf",
   "metadata": {},
   "outputs": [],
   "source": [
    "import pandas as pd\n",
    "import numpy as np\n",
    "import cv2\n",
    "import redis"
   ]
  },
  {
   "cell_type": "code",
   "execution_count": 3,
   "id": "f724c7fd-6c5c-4c7f-ad2d-a99c26db8206",
   "metadata": {},
   "outputs": [
    {
     "data": {
      "text/plain": [
       "True"
      ]
     },
     "execution_count": 3,
     "metadata": {},
     "output_type": "execute_result"
    }
   ],
   "source": [
    "Face_rec.r.ping()"
   ]
  },
  {
   "cell_type": "markdown",
   "id": "7c7e4c9a-669a-40b5-8c26-5a72b5f55f72",
   "metadata": {},
   "source": [
    "#### step-1: extract data from the db"
   ]
  },
  {
   "cell_type": "code",
   "execution_count": 4,
   "id": "cda64434-9a4b-4e9c-92d0-f2cdcce5e430",
   "metadata": {},
   "outputs": [
    {
     "data": {
      "text/html": [
       "<div>\n",
       "<style scoped>\n",
       "    .dataframe tbody tr th:only-of-type {\n",
       "        vertical-align: middle;\n",
       "    }\n",
       "\n",
       "    .dataframe tbody tr th {\n",
       "        vertical-align: top;\n",
       "    }\n",
       "\n",
       "    .dataframe thead th {\n",
       "        text-align: right;\n",
       "    }\n",
       "</style>\n",
       "<table border=\"1\" class=\"dataframe\">\n",
       "  <thead>\n",
       "    <tr style=\"text-align: right;\">\n",
       "      <th></th>\n",
       "      <th>name_role</th>\n",
       "      <th>facial_features</th>\n",
       "      <th>Name</th>\n",
       "      <th>Role</th>\n",
       "    </tr>\n",
       "  </thead>\n",
       "  <tbody>\n",
       "    <tr>\n",
       "      <th>0</th>\n",
       "      <td>Morgan Freeman@Teacher</td>\n",
       "      <td>[0.48535103, -0.6192555, -0.4069932, 1.0687788...</td>\n",
       "      <td>Morgan Freeman</td>\n",
       "      <td>Teacher</td>\n",
       "    </tr>\n",
       "    <tr>\n",
       "      <th>1</th>\n",
       "      <td>Barack Obama@Teacher</td>\n",
       "      <td>[0.94858104, -0.5584052, 0.094820715, -1.27965...</td>\n",
       "      <td>Barack Obama</td>\n",
       "      <td>Teacher</td>\n",
       "    </tr>\n",
       "    <tr>\n",
       "      <th>2</th>\n",
       "      <td>Scarlett Johansson@Student</td>\n",
       "      <td>[0.19131963, -0.48843804, -1.690233, 0.4423967...</td>\n",
       "      <td>Scarlett Johansson</td>\n",
       "      <td>Student</td>\n",
       "    </tr>\n",
       "    <tr>\n",
       "      <th>3</th>\n",
       "      <td>Chris Evans@Student</td>\n",
       "      <td>[0.7201715, -1.4684149, -0.7781253, -1.4601073...</td>\n",
       "      <td>Chris Evans</td>\n",
       "      <td>Student</td>\n",
       "    </tr>\n",
       "    <tr>\n",
       "      <th>4</th>\n",
       "      <td>Sanya Ahmed@Student</td>\n",
       "      <td>[-2.215128, -0.21550947, 0.77177125, 2.1592066...</td>\n",
       "      <td>Sanya Ahmed</td>\n",
       "      <td>Student</td>\n",
       "    </tr>\n",
       "    <tr>\n",
       "      <th>5</th>\n",
       "      <td>Angelina Jolie@Student</td>\n",
       "      <td>[0.43242034, 1.0748498, -0.12862365, -1.833291...</td>\n",
       "      <td>Angelina Jolie</td>\n",
       "      <td>Student</td>\n",
       "    </tr>\n",
       "  </tbody>\n",
       "</table>\n",
       "</div>"
      ],
      "text/plain": [
       "                    name_role  \\\n",
       "0      Morgan Freeman@Teacher   \n",
       "1        Barack Obama@Teacher   \n",
       "2  Scarlett Johansson@Student   \n",
       "3         Chris Evans@Student   \n",
       "4         Sanya Ahmed@Student   \n",
       "5      Angelina Jolie@Student   \n",
       "\n",
       "                                     facial_features                Name  \\\n",
       "0  [0.48535103, -0.6192555, -0.4069932, 1.0687788...      Morgan Freeman   \n",
       "1  [0.94858104, -0.5584052, 0.094820715, -1.27965...        Barack Obama   \n",
       "2  [0.19131963, -0.48843804, -1.690233, 0.4423967...  Scarlett Johansson   \n",
       "3  [0.7201715, -1.4684149, -0.7781253, -1.4601073...         Chris Evans   \n",
       "4  [-2.215128, -0.21550947, 0.77177125, 2.1592066...         Sanya Ahmed   \n",
       "5  [0.43242034, 1.0748498, -0.12862365, -1.833291...      Angelina Jolie   \n",
       "\n",
       "      Role  \n",
       "0  Teacher  \n",
       "1  Teacher  \n",
       "2  Student  \n",
       "3  Student  \n",
       "4  Student  \n",
       "5  Student  "
      ]
     },
     "execution_count": 4,
     "metadata": {},
     "output_type": "execute_result"
    }
   ],
   "source": [
    "name = 'academy:register'\n",
    "retrieve_dict= Face_rec.r.hgetall(name)\n",
    "retrieve_series = pd.Series(retrieve_dict)\n",
    "\n",
    "retrieve_series = retrieve_series.apply(lambda x: np.frombuffer(x,dtype=np.float32))\n",
    "index = retrieve_series.index\n",
    "index = list(map(lambda x: x.decode(), index))\n",
    "\n",
    "retrieve_series.index = index\n",
    "retrieve_df = retrieve_series.to_frame().reset_index()\n",
    "\n",
    "retrieve_df.columns=['name_role','facial_features']\n",
    "retrieve_df[['Name', 'Role']] = retrieve_df['name_role'].apply(lambda x: x.split('@')).apply(pd.Series)\n",
    "retrieve_df"
   ]
  },
  {
   "cell_type": "markdown",
   "id": "d43d86fa-833e-4a0f-b696-9cbd5c15767a",
   "metadata": {},
   "source": [
    "### step-2: get real-time predictions"
   ]
  },
  {
   "cell_type": "code",
   "execution_count": 5,
   "id": "4fc1614e-2007-4515-84fc-156ed84b2f58",
   "metadata": {},
   "outputs": [],
   "source": [
    "cap = cv2.VideoCapture(0) # 0 default camera, 1 external camera\n",
    "\n",
    "while True:\n",
    "    ret, frame = cap.read()\n",
    "    if ret == False:\n",
    "        break\n",
    "\n",
    "    pred_frame = Face_rec.face_prediction(frame, retrieve_df, 'facial_features', ['Name','Role'], thresh=0.5)\n",
    "\n",
    "    cv2.imshow('frame', frame)\n",
    "    cv2.imshow('prediction', pred_frame)\n",
    "\n",
    "    if cv2.waitKey(1) == 27: #if i press esc button this condition will get triggered\n",
    "        break\n",
    "\n",
    "cv2.destroyAllWindows()\n",
    "cap.release()"
   ]
  },
  {
   "cell_type": "code",
   "execution_count": null,
   "id": "c0783932-11fe-47bb-9144-cee46e4be649",
   "metadata": {},
   "outputs": [],
   "source": []
  },
  {
   "cell_type": "code",
   "execution_count": null,
   "id": "6c4001da-fe98-450c-a438-7476d2f75c03",
   "metadata": {},
   "outputs": [],
   "source": []
  },
  {
   "cell_type": "code",
   "execution_count": null,
   "id": "119d05bd-78dd-412b-bf40-f84e66244367",
   "metadata": {},
   "outputs": [],
   "source": []
  },
  {
   "cell_type": "code",
   "execution_count": null,
   "id": "1535862a-070e-45e6-9f68-1db1c04948f3",
   "metadata": {},
   "outputs": [],
   "source": []
  },
  {
   "cell_type": "code",
   "execution_count": null,
   "id": "99c0d735-9e93-4801-9af4-7b50dc47c294",
   "metadata": {},
   "outputs": [],
   "source": []
  }
 ],
 "metadata": {
  "kernelspec": {
   "display_name": "Python 3 (ipykernel)",
   "language": "python",
   "name": "python3"
  },
  "language_info": {
   "codemirror_mode": {
    "name": "ipython",
    "version": 3
   },
   "file_extension": ".py",
   "mimetype": "text/x-python",
   "name": "python",
   "nbconvert_exporter": "python",
   "pygments_lexer": "ipython3",
   "version": "3.10.9"
  }
 },
 "nbformat": 4,
 "nbformat_minor": 5
}
